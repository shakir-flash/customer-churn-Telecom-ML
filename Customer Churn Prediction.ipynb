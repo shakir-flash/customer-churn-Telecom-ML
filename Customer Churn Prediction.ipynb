{
 "cells": [
  {
   "cell_type": "markdown",
   "metadata": {},
   "source": [
    "# Customer Churn Prediction\n",
    "### *Authors:* \n",
    "- ***Ahmed, Shakir***\n",
    "- ***Miglani, Sarthak***"
   ]
  },
  {
   "cell_type": "markdown",
   "metadata": {},
   "source": [
    "## Imports"
   ]
  },
  {
   "cell_type": "code",
   "execution_count": 3,
   "metadata": {},
   "outputs": [],
   "source": [
    "import pandas as pd\n",
    "import numpy as np\n",
    "import matplotlib.pyplot as plt\n",
    "import seaborn as sns\n",
    "from sklearn.model_selection import train_test_split, RandomizedSearchCV\n",
    "from sklearn.preprocessing import StandardScaler\n",
    "from sklearn.linear_model import LogisticRegression\n",
    "from sklearn.tree import DecisionTreeClassifier\n",
    "from sklearn.ensemble import RandomForestClassifier\n",
    "from sklearn.svm import SVC\n",
    "from sklearn.pipeline import make_pipeline\n",
    "import xgboost as XGBClassifier\n",
    "from sklearn.metrics import classification_report, confusion_matrix, roc_auc_score\n",
    "from sklearn.feature_selection import RFE\n",
    "from scipy.stats import randint as sp_randint, loguniform, uniform"
   ]
  },
  {
   "cell_type": "markdown",
   "metadata": {},
   "source": [
    "## Data Reading\n",
    "Loading and displaying the first few rows of the customer churn dataset to understand the initial structure and available features."
   ]
  },
  {
   "cell_type": "code",
   "execution_count": 5,
   "metadata": {},
   "outputs": [
    {
     "data": {
      "text/html": [
       "<div>\n",
       "<style scoped>\n",
       "    .dataframe tbody tr th:only-of-type {\n",
       "        vertical-align: middle;\n",
       "    }\n",
       "\n",
       "    .dataframe tbody tr th {\n",
       "        vertical-align: top;\n",
       "    }\n",
       "\n",
       "    .dataframe thead th {\n",
       "        text-align: right;\n",
       "    }\n",
       "</style>\n",
       "<table border=\"1\" class=\"dataframe\">\n",
       "  <thead>\n",
       "    <tr style=\"text-align: right;\">\n",
       "      <th></th>\n",
       "      <th>customerID</th>\n",
       "      <th>gender</th>\n",
       "      <th>SeniorCitizen</th>\n",
       "      <th>Partner</th>\n",
       "      <th>Dependents</th>\n",
       "      <th>tenure</th>\n",
       "      <th>PhoneService</th>\n",
       "      <th>MultipleLines</th>\n",
       "      <th>InternetService</th>\n",
       "      <th>OnlineSecurity</th>\n",
       "      <th>...</th>\n",
       "      <th>DeviceProtection</th>\n",
       "      <th>TechSupport</th>\n",
       "      <th>StreamingTV</th>\n",
       "      <th>StreamingMovies</th>\n",
       "      <th>Contract</th>\n",
       "      <th>PaperlessBilling</th>\n",
       "      <th>PaymentMethod</th>\n",
       "      <th>MonthlyCharges</th>\n",
       "      <th>TotalCharges</th>\n",
       "      <th>Churn</th>\n",
       "    </tr>\n",
       "  </thead>\n",
       "  <tbody>\n",
       "    <tr>\n",
       "      <th>0</th>\n",
       "      <td>7590-VHVEG</td>\n",
       "      <td>Female</td>\n",
       "      <td>0</td>\n",
       "      <td>Yes</td>\n",
       "      <td>No</td>\n",
       "      <td>1</td>\n",
       "      <td>No</td>\n",
       "      <td>No phone service</td>\n",
       "      <td>DSL</td>\n",
       "      <td>No</td>\n",
       "      <td>...</td>\n",
       "      <td>No</td>\n",
       "      <td>No</td>\n",
       "      <td>No</td>\n",
       "      <td>No</td>\n",
       "      <td>Month-to-month</td>\n",
       "      <td>Yes</td>\n",
       "      <td>Electronic check</td>\n",
       "      <td>29.85</td>\n",
       "      <td>29.85</td>\n",
       "      <td>No</td>\n",
       "    </tr>\n",
       "    <tr>\n",
       "      <th>1</th>\n",
       "      <td>5575-GNVDE</td>\n",
       "      <td>Male</td>\n",
       "      <td>0</td>\n",
       "      <td>No</td>\n",
       "      <td>No</td>\n",
       "      <td>34</td>\n",
       "      <td>Yes</td>\n",
       "      <td>No</td>\n",
       "      <td>DSL</td>\n",
       "      <td>Yes</td>\n",
       "      <td>...</td>\n",
       "      <td>Yes</td>\n",
       "      <td>No</td>\n",
       "      <td>No</td>\n",
       "      <td>No</td>\n",
       "      <td>One year</td>\n",
       "      <td>No</td>\n",
       "      <td>Mailed check</td>\n",
       "      <td>56.95</td>\n",
       "      <td>1889.5</td>\n",
       "      <td>No</td>\n",
       "    </tr>\n",
       "    <tr>\n",
       "      <th>2</th>\n",
       "      <td>3668-QPYBK</td>\n",
       "      <td>Male</td>\n",
       "      <td>0</td>\n",
       "      <td>No</td>\n",
       "      <td>No</td>\n",
       "      <td>2</td>\n",
       "      <td>Yes</td>\n",
       "      <td>No</td>\n",
       "      <td>DSL</td>\n",
       "      <td>Yes</td>\n",
       "      <td>...</td>\n",
       "      <td>No</td>\n",
       "      <td>No</td>\n",
       "      <td>No</td>\n",
       "      <td>No</td>\n",
       "      <td>Month-to-month</td>\n",
       "      <td>Yes</td>\n",
       "      <td>Mailed check</td>\n",
       "      <td>53.85</td>\n",
       "      <td>108.15</td>\n",
       "      <td>Yes</td>\n",
       "    </tr>\n",
       "    <tr>\n",
       "      <th>3</th>\n",
       "      <td>7795-CFOCW</td>\n",
       "      <td>Male</td>\n",
       "      <td>0</td>\n",
       "      <td>No</td>\n",
       "      <td>No</td>\n",
       "      <td>45</td>\n",
       "      <td>No</td>\n",
       "      <td>No phone service</td>\n",
       "      <td>DSL</td>\n",
       "      <td>Yes</td>\n",
       "      <td>...</td>\n",
       "      <td>Yes</td>\n",
       "      <td>Yes</td>\n",
       "      <td>No</td>\n",
       "      <td>No</td>\n",
       "      <td>One year</td>\n",
       "      <td>No</td>\n",
       "      <td>Bank transfer (automatic)</td>\n",
       "      <td>42.30</td>\n",
       "      <td>1840.75</td>\n",
       "      <td>No</td>\n",
       "    </tr>\n",
       "    <tr>\n",
       "      <th>4</th>\n",
       "      <td>9237-HQITU</td>\n",
       "      <td>Female</td>\n",
       "      <td>0</td>\n",
       "      <td>No</td>\n",
       "      <td>No</td>\n",
       "      <td>2</td>\n",
       "      <td>Yes</td>\n",
       "      <td>No</td>\n",
       "      <td>Fiber optic</td>\n",
       "      <td>No</td>\n",
       "      <td>...</td>\n",
       "      <td>No</td>\n",
       "      <td>No</td>\n",
       "      <td>No</td>\n",
       "      <td>No</td>\n",
       "      <td>Month-to-month</td>\n",
       "      <td>Yes</td>\n",
       "      <td>Electronic check</td>\n",
       "      <td>70.70</td>\n",
       "      <td>151.65</td>\n",
       "      <td>Yes</td>\n",
       "    </tr>\n",
       "  </tbody>\n",
       "</table>\n",
       "<p>5 rows × 21 columns</p>\n",
       "</div>"
      ],
      "text/plain": [
       "   customerID  gender  SeniorCitizen Partner Dependents  tenure PhoneService  \\\n",
       "0  7590-VHVEG  Female              0     Yes         No       1           No   \n",
       "1  5575-GNVDE    Male              0      No         No      34          Yes   \n",
       "2  3668-QPYBK    Male              0      No         No       2          Yes   \n",
       "3  7795-CFOCW    Male              0      No         No      45           No   \n",
       "4  9237-HQITU  Female              0      No         No       2          Yes   \n",
       "\n",
       "      MultipleLines InternetService OnlineSecurity  ... DeviceProtection  \\\n",
       "0  No phone service             DSL             No  ...               No   \n",
       "1                No             DSL            Yes  ...              Yes   \n",
       "2                No             DSL            Yes  ...               No   \n",
       "3  No phone service             DSL            Yes  ...              Yes   \n",
       "4                No     Fiber optic             No  ...               No   \n",
       "\n",
       "  TechSupport StreamingTV StreamingMovies        Contract PaperlessBilling  \\\n",
       "0          No          No              No  Month-to-month              Yes   \n",
       "1          No          No              No        One year               No   \n",
       "2          No          No              No  Month-to-month              Yes   \n",
       "3         Yes          No              No        One year               No   \n",
       "4          No          No              No  Month-to-month              Yes   \n",
       "\n",
       "               PaymentMethod MonthlyCharges  TotalCharges Churn  \n",
       "0           Electronic check          29.85         29.85    No  \n",
       "1               Mailed check          56.95        1889.5    No  \n",
       "2               Mailed check          53.85        108.15   Yes  \n",
       "3  Bank transfer (automatic)          42.30       1840.75    No  \n",
       "4           Electronic check          70.70        151.65   Yes  \n",
       "\n",
       "[5 rows x 21 columns]"
      ]
     },
     "execution_count": 5,
     "metadata": {},
     "output_type": "execute_result"
    }
   ],
   "source": [
    "df = pd.read_csv('https://raw.githubusercontent.com/shakir-flash/customer-churn-prediction-telecom/main/data/WA_Fn-UseC_-Telco-Customer-Churn.csv')\n",
    "df.head()"
   ]
  },
  {
   "cell_type": "markdown",
   "metadata": {},
   "source": [
    "## Dataset Overview\n",
    "\n",
    "The dataset comes from a telecom company and is used for predicting customer churn. Each row represents a customer, each column contains customer’s attributes described on the column Metadata. The dataset includes the following fields:\n",
    "\n",
    "- **customerID**: Customer ID\n",
    "- **gender**: Whether the customer is a male or a female\n",
    "- **SeniorCitizen**: Whether the customer is a senior citizen or not (1, 0)\n",
    "- **Partner**: Whether the customer has a partner or not (Yes, No)\n",
    "- **Dependents**: Whether the customer has dependents or not (Yes, No)\n",
    "- **tenure**: Number of months the customer has stayed with the company\n",
    "- **PhoneService**: Whether the customer has a phone service or not (Yes, No)\n",
    "- **MultipleLines**: Whether the customer has multiple lines or not (Yes, No, No phone service)\n",
    "- **InternetService**: Customer’s internet service provider (DSL, Fiber optic, No)\n",
    "- **OnlineSecurity**: Whether the customer has online security or not (Yes, No, No internet service)\n",
    "- **OnlineBackup**: Whether the customer has online backup or not (Yes, No, No internet service)\n",
    "- **DeviceProtection**: Whether the customer has device protection or not (Yes, No, No internet service)\n",
    "- **TechSupport**: Whether the customer has tech support or not (Yes, No, No internet service)\n",
    "- **StreamingTV**: Whether the customer has streaming TV or not (Yes, No, No internet service)\n",
    "- **StreamingMovies**: Whether the customer has streaming movies or not (Yes, No, No internet service)\n",
    "- **Contract**: The contract term of the customer (Month-to-month, One year, Two year)\n",
    "- **PaperlessBilling**: Whether the customer has paperless billing or not (Yes, No)\n",
    "- **PaymentMethod**: The customer’s payment method (Electronic check, Mailed check, Bank transfer (automatic), Credit card (automatic))\n",
    "- **MonthlyCharges**: The amount charged to the customer monthly\n",
    "- **TotalCharges**: The total amount charged to the customer\n",
    "- **Churn**: Whether the customer churned or not (Yes or No)\n",
    "\n",
    "This data will be explored to understand the trends and patterns that influence customer churn, which is crucial for making informed business decisions aimed at customer retention."
   ]
  },
  {
   "cell_type": "markdown",
   "metadata": {},
   "source": [
    "## Initial Data Preprocessing\n",
    "Cleaning and preparing the data by handling missing values, removing irrelevant features, and encoding categorical variables to ensure the dataset is ready for analysis and modeling."
   ]
  },
  {
   "cell_type": "markdown",
   "metadata": {},
   "source": [
    "### *Handling missing values*"
   ]
  },
  {
   "cell_type": "code",
   "execution_count": 9,
   "metadata": {},
   "outputs": [
    {
     "name": "stdout",
     "output_type": "stream",
     "text": [
      "Missing values before handling: 0, after: 0\n",
      "Data shape after handling missing values: (7032, 21)\n"
     ]
    }
   ],
   "source": [
    "initial_missing_values = df.isnull().sum().sum()\n",
    "df['TotalCharges'] = pd.to_numeric(df['TotalCharges'], errors='coerce')\n",
    "df.dropna(inplace=True)\n",
    "final_missing_values = df.isnull().sum().sum()\n",
    "print(f\"Missing values before handling: {initial_missing_values}, after: {final_missing_values}\")\n",
    "print(f\"Data shape after handling missing values: {df.shape}\")"
   ]
  },
  {
   "cell_type": "markdown",
   "metadata": {},
   "source": [
    "### *Removing irrelevant features*"
   ]
  },
  {
   "cell_type": "code",
   "execution_count": 11,
   "metadata": {},
   "outputs": [
    {
     "name": "stdout",
     "output_type": "stream",
     "text": [
      "Initial data shape: (7032, 21)\n",
      "Updated DataFrame after dropping 'customerID':\n"
     ]
    },
    {
     "data": {
      "text/html": [
       "<div>\n",
       "<style scoped>\n",
       "    .dataframe tbody tr th:only-of-type {\n",
       "        vertical-align: middle;\n",
       "    }\n",
       "\n",
       "    .dataframe tbody tr th {\n",
       "        vertical-align: top;\n",
       "    }\n",
       "\n",
       "    .dataframe thead th {\n",
       "        text-align: right;\n",
       "    }\n",
       "</style>\n",
       "<table border=\"1\" class=\"dataframe\">\n",
       "  <thead>\n",
       "    <tr style=\"text-align: right;\">\n",
       "      <th></th>\n",
       "      <th>gender</th>\n",
       "      <th>SeniorCitizen</th>\n",
       "      <th>Partner</th>\n",
       "      <th>Dependents</th>\n",
       "      <th>tenure</th>\n",
       "      <th>PhoneService</th>\n",
       "      <th>MultipleLines</th>\n",
       "      <th>InternetService</th>\n",
       "      <th>OnlineSecurity</th>\n",
       "      <th>OnlineBackup</th>\n",
       "      <th>DeviceProtection</th>\n",
       "      <th>TechSupport</th>\n",
       "      <th>StreamingTV</th>\n",
       "      <th>StreamingMovies</th>\n",
       "      <th>Contract</th>\n",
       "      <th>PaperlessBilling</th>\n",
       "      <th>PaymentMethod</th>\n",
       "      <th>MonthlyCharges</th>\n",
       "      <th>TotalCharges</th>\n",
       "      <th>Churn</th>\n",
       "    </tr>\n",
       "  </thead>\n",
       "  <tbody>\n",
       "    <tr>\n",
       "      <th>0</th>\n",
       "      <td>Female</td>\n",
       "      <td>0</td>\n",
       "      <td>Yes</td>\n",
       "      <td>No</td>\n",
       "      <td>1</td>\n",
       "      <td>No</td>\n",
       "      <td>No phone service</td>\n",
       "      <td>DSL</td>\n",
       "      <td>No</td>\n",
       "      <td>Yes</td>\n",
       "      <td>No</td>\n",
       "      <td>No</td>\n",
       "      <td>No</td>\n",
       "      <td>No</td>\n",
       "      <td>Month-to-month</td>\n",
       "      <td>Yes</td>\n",
       "      <td>Electronic check</td>\n",
       "      <td>29.85</td>\n",
       "      <td>29.85</td>\n",
       "      <td>No</td>\n",
       "    </tr>\n",
       "    <tr>\n",
       "      <th>1</th>\n",
       "      <td>Male</td>\n",
       "      <td>0</td>\n",
       "      <td>No</td>\n",
       "      <td>No</td>\n",
       "      <td>34</td>\n",
       "      <td>Yes</td>\n",
       "      <td>No</td>\n",
       "      <td>DSL</td>\n",
       "      <td>Yes</td>\n",
       "      <td>No</td>\n",
       "      <td>Yes</td>\n",
       "      <td>No</td>\n",
       "      <td>No</td>\n",
       "      <td>No</td>\n",
       "      <td>One year</td>\n",
       "      <td>No</td>\n",
       "      <td>Mailed check</td>\n",
       "      <td>56.95</td>\n",
       "      <td>1889.50</td>\n",
       "      <td>No</td>\n",
       "    </tr>\n",
       "    <tr>\n",
       "      <th>2</th>\n",
       "      <td>Male</td>\n",
       "      <td>0</td>\n",
       "      <td>No</td>\n",
       "      <td>No</td>\n",
       "      <td>2</td>\n",
       "      <td>Yes</td>\n",
       "      <td>No</td>\n",
       "      <td>DSL</td>\n",
       "      <td>Yes</td>\n",
       "      <td>Yes</td>\n",
       "      <td>No</td>\n",
       "      <td>No</td>\n",
       "      <td>No</td>\n",
       "      <td>No</td>\n",
       "      <td>Month-to-month</td>\n",
       "      <td>Yes</td>\n",
       "      <td>Mailed check</td>\n",
       "      <td>53.85</td>\n",
       "      <td>108.15</td>\n",
       "      <td>Yes</td>\n",
       "    </tr>\n",
       "    <tr>\n",
       "      <th>3</th>\n",
       "      <td>Male</td>\n",
       "      <td>0</td>\n",
       "      <td>No</td>\n",
       "      <td>No</td>\n",
       "      <td>45</td>\n",
       "      <td>No</td>\n",
       "      <td>No phone service</td>\n",
       "      <td>DSL</td>\n",
       "      <td>Yes</td>\n",
       "      <td>No</td>\n",
       "      <td>Yes</td>\n",
       "      <td>Yes</td>\n",
       "      <td>No</td>\n",
       "      <td>No</td>\n",
       "      <td>One year</td>\n",
       "      <td>No</td>\n",
       "      <td>Bank transfer (automatic)</td>\n",
       "      <td>42.30</td>\n",
       "      <td>1840.75</td>\n",
       "      <td>No</td>\n",
       "    </tr>\n",
       "    <tr>\n",
       "      <th>4</th>\n",
       "      <td>Female</td>\n",
       "      <td>0</td>\n",
       "      <td>No</td>\n",
       "      <td>No</td>\n",
       "      <td>2</td>\n",
       "      <td>Yes</td>\n",
       "      <td>No</td>\n",
       "      <td>Fiber optic</td>\n",
       "      <td>No</td>\n",
       "      <td>No</td>\n",
       "      <td>No</td>\n",
       "      <td>No</td>\n",
       "      <td>No</td>\n",
       "      <td>No</td>\n",
       "      <td>Month-to-month</td>\n",
       "      <td>Yes</td>\n",
       "      <td>Electronic check</td>\n",
       "      <td>70.70</td>\n",
       "      <td>151.65</td>\n",
       "      <td>Yes</td>\n",
       "    </tr>\n",
       "  </tbody>\n",
       "</table>\n",
       "</div>"
      ],
      "text/plain": [
       "   gender  SeniorCitizen Partner Dependents  tenure PhoneService  \\\n",
       "0  Female              0     Yes         No       1           No   \n",
       "1    Male              0      No         No      34          Yes   \n",
       "2    Male              0      No         No       2          Yes   \n",
       "3    Male              0      No         No      45           No   \n",
       "4  Female              0      No         No       2          Yes   \n",
       "\n",
       "      MultipleLines InternetService OnlineSecurity OnlineBackup  \\\n",
       "0  No phone service             DSL             No          Yes   \n",
       "1                No             DSL            Yes           No   \n",
       "2                No             DSL            Yes          Yes   \n",
       "3  No phone service             DSL            Yes           No   \n",
       "4                No     Fiber optic             No           No   \n",
       "\n",
       "  DeviceProtection TechSupport StreamingTV StreamingMovies        Contract  \\\n",
       "0               No          No          No              No  Month-to-month   \n",
       "1              Yes          No          No              No        One year   \n",
       "2               No          No          No              No  Month-to-month   \n",
       "3              Yes         Yes          No              No        One year   \n",
       "4               No          No          No              No  Month-to-month   \n",
       "\n",
       "  PaperlessBilling              PaymentMethod  MonthlyCharges  TotalCharges  \\\n",
       "0              Yes           Electronic check           29.85         29.85   \n",
       "1               No               Mailed check           56.95       1889.50   \n",
       "2              Yes               Mailed check           53.85        108.15   \n",
       "3               No  Bank transfer (automatic)           42.30       1840.75   \n",
       "4              Yes           Electronic check           70.70        151.65   \n",
       "\n",
       "  Churn  \n",
       "0    No  \n",
       "1    No  \n",
       "2   Yes  \n",
       "3    No  \n",
       "4   Yes  "
      ]
     },
     "execution_count": 11,
     "metadata": {},
     "output_type": "execute_result"
    }
   ],
   "source": [
    "print(f\"Initial data shape: {df.shape}\")\n",
    "df.drop('customerID', axis=1, inplace=True)\n",
    "print(\"Updated DataFrame after dropping 'customerID':\")\n",
    "df.head()"
   ]
  },
  {
   "cell_type": "markdown",
   "metadata": {},
   "source": [
    "### *Encoding categorical variables*"
   ]
  },
  {
   "cell_type": "code",
   "execution_count": 13,
   "metadata": {},
   "outputs": [
    {
     "name": "stdout",
     "output_type": "stream",
     "text": [
      "Data shape after encoding binary and categorical variables: (7032, 31)\n",
      "First few rows after encoding:\n"
     ]
    },
    {
     "data": {
      "text/html": [
       "<div>\n",
       "<style scoped>\n",
       "    .dataframe tbody tr th:only-of-type {\n",
       "        vertical-align: middle;\n",
       "    }\n",
       "\n",
       "    .dataframe tbody tr th {\n",
       "        vertical-align: top;\n",
       "    }\n",
       "\n",
       "    .dataframe thead th {\n",
       "        text-align: right;\n",
       "    }\n",
       "</style>\n",
       "<table border=\"1\" class=\"dataframe\">\n",
       "  <thead>\n",
       "    <tr style=\"text-align: right;\">\n",
       "      <th></th>\n",
       "      <th>SeniorCitizen</th>\n",
       "      <th>Partner</th>\n",
       "      <th>Dependents</th>\n",
       "      <th>tenure</th>\n",
       "      <th>PhoneService</th>\n",
       "      <th>PaperlessBilling</th>\n",
       "      <th>MonthlyCharges</th>\n",
       "      <th>TotalCharges</th>\n",
       "      <th>Churn</th>\n",
       "      <th>gender_Male</th>\n",
       "      <th>...</th>\n",
       "      <th>TechSupport_Yes</th>\n",
       "      <th>StreamingTV_No internet service</th>\n",
       "      <th>StreamingTV_Yes</th>\n",
       "      <th>StreamingMovies_No internet service</th>\n",
       "      <th>StreamingMovies_Yes</th>\n",
       "      <th>Contract_One year</th>\n",
       "      <th>Contract_Two year</th>\n",
       "      <th>PaymentMethod_Credit card (automatic)</th>\n",
       "      <th>PaymentMethod_Electronic check</th>\n",
       "      <th>PaymentMethod_Mailed check</th>\n",
       "    </tr>\n",
       "  </thead>\n",
       "  <tbody>\n",
       "    <tr>\n",
       "      <th>0</th>\n",
       "      <td>0</td>\n",
       "      <td>1</td>\n",
       "      <td>0</td>\n",
       "      <td>1</td>\n",
       "      <td>0</td>\n",
       "      <td>1</td>\n",
       "      <td>29.85</td>\n",
       "      <td>29.85</td>\n",
       "      <td>0</td>\n",
       "      <td>False</td>\n",
       "      <td>...</td>\n",
       "      <td>False</td>\n",
       "      <td>False</td>\n",
       "      <td>False</td>\n",
       "      <td>False</td>\n",
       "      <td>False</td>\n",
       "      <td>False</td>\n",
       "      <td>False</td>\n",
       "      <td>False</td>\n",
       "      <td>True</td>\n",
       "      <td>False</td>\n",
       "    </tr>\n",
       "    <tr>\n",
       "      <th>1</th>\n",
       "      <td>0</td>\n",
       "      <td>0</td>\n",
       "      <td>0</td>\n",
       "      <td>34</td>\n",
       "      <td>1</td>\n",
       "      <td>0</td>\n",
       "      <td>56.95</td>\n",
       "      <td>1889.50</td>\n",
       "      <td>0</td>\n",
       "      <td>True</td>\n",
       "      <td>...</td>\n",
       "      <td>False</td>\n",
       "      <td>False</td>\n",
       "      <td>False</td>\n",
       "      <td>False</td>\n",
       "      <td>False</td>\n",
       "      <td>True</td>\n",
       "      <td>False</td>\n",
       "      <td>False</td>\n",
       "      <td>False</td>\n",
       "      <td>True</td>\n",
       "    </tr>\n",
       "    <tr>\n",
       "      <th>2</th>\n",
       "      <td>0</td>\n",
       "      <td>0</td>\n",
       "      <td>0</td>\n",
       "      <td>2</td>\n",
       "      <td>1</td>\n",
       "      <td>1</td>\n",
       "      <td>53.85</td>\n",
       "      <td>108.15</td>\n",
       "      <td>1</td>\n",
       "      <td>True</td>\n",
       "      <td>...</td>\n",
       "      <td>False</td>\n",
       "      <td>False</td>\n",
       "      <td>False</td>\n",
       "      <td>False</td>\n",
       "      <td>False</td>\n",
       "      <td>False</td>\n",
       "      <td>False</td>\n",
       "      <td>False</td>\n",
       "      <td>False</td>\n",
       "      <td>True</td>\n",
       "    </tr>\n",
       "    <tr>\n",
       "      <th>3</th>\n",
       "      <td>0</td>\n",
       "      <td>0</td>\n",
       "      <td>0</td>\n",
       "      <td>45</td>\n",
       "      <td>0</td>\n",
       "      <td>0</td>\n",
       "      <td>42.30</td>\n",
       "      <td>1840.75</td>\n",
       "      <td>0</td>\n",
       "      <td>True</td>\n",
       "      <td>...</td>\n",
       "      <td>True</td>\n",
       "      <td>False</td>\n",
       "      <td>False</td>\n",
       "      <td>False</td>\n",
       "      <td>False</td>\n",
       "      <td>True</td>\n",
       "      <td>False</td>\n",
       "      <td>False</td>\n",
       "      <td>False</td>\n",
       "      <td>False</td>\n",
       "    </tr>\n",
       "    <tr>\n",
       "      <th>4</th>\n",
       "      <td>0</td>\n",
       "      <td>0</td>\n",
       "      <td>0</td>\n",
       "      <td>2</td>\n",
       "      <td>1</td>\n",
       "      <td>1</td>\n",
       "      <td>70.70</td>\n",
       "      <td>151.65</td>\n",
       "      <td>1</td>\n",
       "      <td>False</td>\n",
       "      <td>...</td>\n",
       "      <td>False</td>\n",
       "      <td>False</td>\n",
       "      <td>False</td>\n",
       "      <td>False</td>\n",
       "      <td>False</td>\n",
       "      <td>False</td>\n",
       "      <td>False</td>\n",
       "      <td>False</td>\n",
       "      <td>True</td>\n",
       "      <td>False</td>\n",
       "    </tr>\n",
       "  </tbody>\n",
       "</table>\n",
       "<p>5 rows × 31 columns</p>\n",
       "</div>"
      ],
      "text/plain": [
       "   SeniorCitizen  Partner  Dependents  tenure  PhoneService  PaperlessBilling  \\\n",
       "0              0        1           0       1             0                 1   \n",
       "1              0        0           0      34             1                 0   \n",
       "2              0        0           0       2             1                 1   \n",
       "3              0        0           0      45             0                 0   \n",
       "4              0        0           0       2             1                 1   \n",
       "\n",
       "   MonthlyCharges  TotalCharges  Churn  gender_Male  ...  TechSupport_Yes  \\\n",
       "0           29.85         29.85      0        False  ...            False   \n",
       "1           56.95       1889.50      0         True  ...            False   \n",
       "2           53.85        108.15      1         True  ...            False   \n",
       "3           42.30       1840.75      0         True  ...             True   \n",
       "4           70.70        151.65      1        False  ...            False   \n",
       "\n",
       "   StreamingTV_No internet service  StreamingTV_Yes  \\\n",
       "0                            False            False   \n",
       "1                            False            False   \n",
       "2                            False            False   \n",
       "3                            False            False   \n",
       "4                            False            False   \n",
       "\n",
       "   StreamingMovies_No internet service  StreamingMovies_Yes  \\\n",
       "0                                False                False   \n",
       "1                                False                False   \n",
       "2                                False                False   \n",
       "3                                False                False   \n",
       "4                                False                False   \n",
       "\n",
       "   Contract_One year  Contract_Two year  \\\n",
       "0              False              False   \n",
       "1               True              False   \n",
       "2              False              False   \n",
       "3               True              False   \n",
       "4              False              False   \n",
       "\n",
       "   PaymentMethod_Credit card (automatic)  PaymentMethod_Electronic check  \\\n",
       "0                                  False                            True   \n",
       "1                                  False                           False   \n",
       "2                                  False                           False   \n",
       "3                                  False                           False   \n",
       "4                                  False                            True   \n",
       "\n",
       "   PaymentMethod_Mailed check  \n",
       "0                       False  \n",
       "1                        True  \n",
       "2                        True  \n",
       "3                       False  \n",
       "4                       False  \n",
       "\n",
       "[5 rows x 31 columns]"
      ]
     },
     "execution_count": 13,
     "metadata": {},
     "output_type": "execute_result"
    }
   ],
   "source": [
    "def encode_binary_columns(col):\n",
    "    if col.dtype == 'object':\n",
    "        unique_values = col.unique()\n",
    "        if set(unique_values) == {'Yes', 'No'}:\n",
    "            return col.map({'Yes': 1, 'No': 0})\n",
    "        elif set(unique_values) == {'True', 'False'}:\n",
    "            return col.map({'True': 1, 'False': 0})\n",
    "    return col\n",
    "\n",
    "df = df.apply(encode_binary_columns)\n",
    "\n",
    "import warnings\n",
    "warnings.filterwarnings('ignore')\n",
    "\n",
    "categorical_columns = df.select_dtypes(include=['object']).columns\n",
    "df = pd.get_dummies(df, columns=categorical_columns, drop_first=True)\n",
    "\n",
    "print(\"Data shape after encoding binary and categorical variables:\", df.shape)\n",
    "print(\"First few rows after encoding:\")\n",
    "df.head()"
   ]
  },
  {
   "cell_type": "markdown",
   "metadata": {},
   "source": [
    "## Exploratory Data Analytics (EDA)\n",
    "Analyzing and visualizing the data to uncover patterns, and understand the distribution of variables and their relationships with the target variable."
   ]
  },
  {
   "cell_type": "markdown",
   "metadata": {},
   "source": [
    "### *Churn Distribution Visualization*\n",
    "This bar plot illustrates the proportion of customers who have churned versus those who have remained with the telecom service."
   ]
  },
  {
   "cell_type": "code",
   "execution_count": 16,
   "metadata": {},
   "outputs": [
    {
     "data": {
      "image/png": "[encoded data removed]",
      "text/plain": [
       "<Figure size 700x400 with 1 Axes>"
      ]
     },
     "metadata": {},
     "output_type": "display_data"
    }
   ],
   "source": [
    "plt.figure(figsize=(7, 4))\n",
    "sns.countplot(x='Churn', data=df)\n",
    "plt.title('Distribution of Churn')\n",
    "plt.show()"
   ]
  },
  {
   "cell_type": "markdown",
   "metadata": {},
   "source": [
    "### *Correlation Analysis of Features with Customer Churn*\n"
   ]
  },
  {
   "cell_type": "code",
   "execution_count": 18,
   "metadata": {},
   "outputs": [
    {
     "name": "stdout",
     "output_type": "stream",
     "text": [
      "Features with highest positive correlation to Churn:\n",
      "InternetService_Fiber optic              0.307463\n",
      "PaymentMethod_Electronic check           0.301455\n",
      "MonthlyCharges                           0.192858\n",
      "PaperlessBilling                         0.191454\n",
      "SeniorCitizen                            0.150541\n",
      "StreamingTV_Yes                          0.063254\n",
      "StreamingMovies_Yes                      0.060860\n",
      "MultipleLines_Yes                        0.040033\n",
      "PhoneService                             0.011691\n",
      "gender_Male                             -0.008545\n",
      "MultipleLines_No phone service          -0.011691\n",
      "DeviceProtection_Yes                    -0.066193\n",
      "OnlineBackup_Yes                        -0.082307\n",
      "PaymentMethod_Mailed check              -0.090773\n",
      "PaymentMethod_Credit card (automatic)   -0.134687\n",
      "Partner                                 -0.149982\n",
      "Dependents                              -0.163128\n",
      "TechSupport_Yes                         -0.164716\n",
      "OnlineSecurity_Yes                      -0.171270\n",
      "Contract_One year                       -0.178225\n",
      "TotalCharges                            -0.199484\n",
      "OnlineSecurity_No internet service      -0.227578\n",
      "DeviceProtection_No internet service    -0.227578\n",
      "InternetService_No                      -0.227578\n",
      "TechSupport_No internet service         -0.227578\n",
      "StreamingTV_No internet service         -0.227578\n",
      "StreamingMovies_No internet service     -0.227578\n",
      "OnlineBackup_No internet service        -0.227578\n",
      "Contract_Two year                       -0.301552\n",
      "tenure                                  -0.354049\n",
      "Name: Churn, dtype: float64\n"
     ]
    }
   ],
   "source": [
    "feature_correlation = df.corr()['Churn'].drop('Churn')\n",
    "\n",
    "corr = feature_correlation.sort_values(ascending=False)\n",
    "print(\"Features with highest positive correlation to Churn:\")\n",
    "print(corr)"
   ]
  },
  {
   "cell_type": "markdown",
   "metadata": {},
   "source": [
    "### *Correlation Heatmap*"
   ]
  },
  {
   "cell_type": "code",
   "execution_count": 20,
   "metadata": {},
   "outputs": [
    {
     "data": {
      "image/png": "[encoded data removed]",
      "text/plain": [
       "<Figure size 1000x800 with 2 Axes>"
      ]
     },
     "metadata": {},
     "output_type": "display_data"
    }
   ],
   "source": [
    "top_positive = feature_correlation.sort_values(ascending=False).head(5).index.tolist()\n",
    "top_negative = feature_correlation.sort_values().head(5).index.tolist()\n",
    "relevant_features = top_positive + top_negative + ['Churn']\n",
    "\n",
    "correlation_matrix = df[relevant_features].corr()\n",
    "\n",
    "plt.figure(figsize=(10, 8))\n",
    "sns.heatmap(correlation_matrix, annot=True, cmap='coolwarm', fmt=\".2f\", center=0)\n",
    "plt.title('Heatmap of Top 10 Features Correlated with Churn')\n",
    "plt.show()"
   ]
  },
  {
   "cell_type": "markdown",
   "metadata": {},
   "source": [
    "## Further Data Preprocessing\n",
    "Scaling numerical features to ensure uniformity in model input and selecting the most predictive features to enhance model accuracy and efficiency."
   ]
  },
  {
   "cell_type": "markdown",
   "metadata": {},
   "source": [
    "### *Feature Scaling*"
   ]
  },
  {
   "cell_type": "code",
   "execution_count": 23,
   "metadata": {},
   "outputs": [
    {
     "name": "stdout",
     "output_type": "stream",
     "text": [
      "Data after feature scaling:\n"
     ]
    },
    {
     "data": {
      "text/html": [
       "<div>\n",
       "<style scoped>\n",
       "    .dataframe tbody tr th:only-of-type {\n",
       "        vertical-align: middle;\n",
       "    }\n",
       "\n",
       "    .dataframe tbody tr th {\n",
       "        vertical-align: top;\n",
       "    }\n",
       "\n",
       "    .dataframe thead th {\n",
       "        text-align: right;\n",
       "    }\n",
       "</style>\n",
       "<table border=\"1\" class=\"dataframe\">\n",
       "  <thead>\n",
       "    <tr style=\"text-align: right;\">\n",
       "      <th></th>\n",
       "      <th>tenure</th>\n",
       "      <th>MonthlyCharges</th>\n",
       "      <th>TotalCharges</th>\n",
       "    </tr>\n",
       "  </thead>\n",
       "  <tbody>\n",
       "    <tr>\n",
       "      <th>0</th>\n",
       "      <td>-1.280248</td>\n",
       "      <td>-1.161694</td>\n",
       "      <td>-0.994194</td>\n",
       "    </tr>\n",
       "    <tr>\n",
       "      <th>1</th>\n",
       "      <td>0.064303</td>\n",
       "      <td>-0.260878</td>\n",
       "      <td>-0.173740</td>\n",
       "    </tr>\n",
       "    <tr>\n",
       "      <th>2</th>\n",
       "      <td>-1.239504</td>\n",
       "      <td>-0.363923</td>\n",
       "      <td>-0.959649</td>\n",
       "    </tr>\n",
       "    <tr>\n",
       "      <th>3</th>\n",
       "      <td>0.512486</td>\n",
       "      <td>-0.747850</td>\n",
       "      <td>-0.195248</td>\n",
       "    </tr>\n",
       "    <tr>\n",
       "      <th>4</th>\n",
       "      <td>-1.239504</td>\n",
       "      <td>0.196178</td>\n",
       "      <td>-0.940457</td>\n",
       "    </tr>\n",
       "  </tbody>\n",
       "</table>\n",
       "</div>"
      ],
      "text/plain": [
       "     tenure  MonthlyCharges  TotalCharges\n",
       "0 -1.280248       -1.161694     -0.994194\n",
       "1  0.064303       -0.260878     -0.173740\n",
       "2 -1.239504       -0.363923     -0.959649\n",
       "3  0.512486       -0.747850     -0.195248\n",
       "4 -1.239504        0.196178     -0.940457"
      ]
     },
     "execution_count": 23,
     "metadata": {},
     "output_type": "execute_result"
    }
   ],
   "source": [
    "scaler = StandardScaler()\n",
    "numeric_features = ['tenure', 'MonthlyCharges', 'TotalCharges']\n",
    "df[numeric_features] = scaler.fit_transform(df[numeric_features])\n",
    "\n",
    "print(\"Data after feature scaling:\")\n",
    "df[numeric_features].head()"
   ]
  },
  {
   "cell_type": "markdown",
   "metadata": {},
   "source": [
    "### *Feature Selection*"
   ]
  },
  {
   "cell_type": "markdown",
   "metadata": {},
   "source": [
    "#### *Recursive Feature Elimination (RFE)*"
   ]
  },
  {
   "cell_type": "code",
   "execution_count": 26,
   "metadata": {},
   "outputs": [
    {
     "name": "stdout",
     "output_type": "stream",
     "text": [
      "                                  Feature  Rank\n",
      "0                           SeniorCitizen     1\n",
      "26                      Contract_Two year     1\n",
      "25                      Contract_One year     1\n",
      "24                    StreamingMovies_Yes     1\n",
      "22                        StreamingTV_Yes     1\n",
      "20                        TechSupport_Yes     1\n",
      "18                   DeviceProtection_Yes     1\n",
      "16                       OnlineBackup_Yes     1\n",
      "28         PaymentMethod_Electronic check     1\n",
      "13     OnlineSecurity_No internet service     1\n",
      "11            InternetService_Fiber optic     1\n",
      "14                     OnlineSecurity_Yes     1\n",
      "5                        PaperlessBilling     1\n",
      "8                             gender_Male     1\n",
      "1                                 Partner     1\n",
      "7                            TotalCharges     1\n",
      "2                              Dependents     1\n",
      "6                          MonthlyCharges     1\n",
      "3                                  tenure     1\n",
      "10                      MultipleLines_Yes     1\n",
      "27  PaymentMethod_Credit card (automatic)     2\n",
      "29             PaymentMethod_Mailed check     3\n",
      "12                     InternetService_No     4\n",
      "17   DeviceProtection_No internet service     5\n",
      "21        StreamingTV_No internet service     6\n",
      "4                            PhoneService     7\n",
      "15       OnlineBackup_No internet service     8\n",
      "23    StreamingMovies_No internet service     9\n",
      "9          MultipleLines_No phone service    10\n",
      "19        TechSupport_No internet service    11\n"
     ]
    }
   ],
   "source": [
    "X = df.drop('Churn', axis=1)\n",
    "y = df['Churn']\n",
    "\n",
    "model = RandomForestClassifier()\n",
    "rfe = RFE(estimator=model, n_features_to_select=20)\n",
    "fit = rfe.fit(X, y)\n",
    "rfe_selected_features = X.columns[fit.support_]\n",
    "\n",
    "feature_ranking = pd.DataFrame({'Feature': X.columns, 'Rank': fit.ranking_}).sort_values(by='Rank')\n",
    "print(feature_ranking)"
   ]
  },
  {
   "cell_type": "markdown",
   "metadata": {},
   "source": [
    "#### *Integrating Correlation and Recursive Feature Elimination for Robust Feature Selection in Customer Churn Prediction*"
   ]
  },
  {
   "cell_type": "code",
   "execution_count": 28,
   "metadata": {},
   "outputs": [
    {
     "name": "stdout",
     "output_type": "stream",
     "text": [
      "Common Features between RFE and Correlation Analysis:\n",
      "['SeniorCitizen', 'tenure', 'PaperlessBilling', 'MonthlyCharges', 'InternetService_Fiber optic', 'Contract_Two year', 'PaymentMethod_Electronic check']\n"
     ]
    }
   ],
   "source": [
    "correlation_selected_features = top_positive + top_negative\n",
    "\n",
    "common_features = [feature for feature in rfe_selected_features if feature in correlation_selected_features]\n",
    "\n",
    "print(\"Common Features between RFE and Correlation Analysis:\")\n",
    "print(common_features)"
   ]
  },
  {
   "cell_type": "markdown",
   "metadata": {},
   "source": [
    "### *Data Split*\n",
    "Dividing the dataset into training and testing sets with a 70-30 split to ensure both subsets provide a balanced representation of the target variable 'Churn'."
   ]
  },
  {
   "cell_type": "code",
   "execution_count": 30,
   "metadata": {},
   "outputs": [
    {
     "name": "stdout",
     "output_type": "stream",
     "text": [
      "Training set size: (4922, 7)\n",
      "Testing set size: (2110, 7)\n"
     ]
    }
   ],
   "source": [
    "X = df[common_features]\n",
    "y = df['Churn']\n",
    "\n",
    "X_train, X_test, y_train, y_test = train_test_split(X, y, test_size=0.3, random_state=42, stratify=y)\n",
    "\n",
    "print(\"Training set size:\", X_train.shape)\n",
    "print(\"Testing set size:\", X_test.shape)"
   ]
  },
  {
   "cell_type": "markdown",
   "metadata": {},
   "source": [
    "## Model Training and Evaluation\n",
    "Training various machine learning models on the preprocessed dataset and evaluating their performance"
   ]
  },
  {
   "cell_type": "markdown",
   "metadata": {},
   "source": [
    "### *Logistic Regression*\n",
    "A statistical model that estimates the probability of a binary outcome based on input features. It's simple, fast, and provides a good baseline for binary classification problems."
   ]
  },
  {
   "cell_type": "code",
   "execution_count": 33,
   "metadata": {},
   "outputs": [
    {
     "name": "stdout",
     "output_type": "stream",
     "text": [
      "Logistic Regression - Classification Report\n",
      "              precision    recall  f1-score   support\n",
      "\n",
      "           0       0.83      0.91      0.87      1549\n",
      "           1       0.66      0.49      0.56       561\n",
      "\n",
      "    accuracy                           0.80      2110\n",
      "   macro avg       0.74      0.70      0.71      2110\n",
      "weighted avg       0.78      0.80      0.79      2110\n",
      "\n",
      "ROC-AUC Score: 0.8306106291333952\n"
     ]
    }
   ],
   "source": [
    "logreg = LogisticRegression(random_state=42, max_iter=1000)\n",
    "\n",
    "logreg.fit(X_train, y_train)\n",
    "\n",
    "y_pred_logreg = logreg.predict(X_test)\n",
    "y_prob_logreg = logreg.predict_proba(X_test)[:, 1]\n",
    "\n",
    "print(\"Logistic Regression - Classification Report\")\n",
    "print(classification_report(y_test, y_pred_logreg))\n",
    "print(\"ROC-AUC Score:\", roc_auc_score(y_test, y_prob_logreg))"
   ]
  },
  {
   "cell_type": "markdown",
   "metadata": {},
   "source": [
    "### *Decision Trees*\n",
    "This model uses a tree-like model of decisions and their possible consequences. It’s easy to interpret and can handle both numerical and categorical data."
   ]
  },
  {
   "cell_type": "code",
   "execution_count": 35,
   "metadata": {},
   "outputs": [
    {
     "name": "stdout",
     "output_type": "stream",
     "text": [
      "Decision Tree - Classification Report\n",
      "              precision    recall  f1-score   support\n",
      "\n",
      "           0       0.81      0.81      0.81      1549\n",
      "           1       0.47      0.46      0.47       561\n",
      "\n",
      "    accuracy                           0.72      2110\n",
      "   macro avg       0.64      0.64      0.64      2110\n",
      "weighted avg       0.72      0.72      0.72      2110\n",
      "\n",
      "ROC-AUC Score: 0.6431329970805153\n"
     ]
    }
   ],
   "source": [
    "dtree = DecisionTreeClassifier(random_state=42)\n",
    "\n",
    "dtree.fit(X_train, y_train)\n",
    "\n",
    "y_pred_dtree = dtree.predict(X_test)\n",
    "y_prob_dtree = dtree.predict_proba(X_test)[:, 1]\n",
    "\n",
    "print(\"Decision Tree - Classification Report\")\n",
    "print(classification_report(y_test, y_pred_dtree))\n",
    "print(\"ROC-AUC Score:\", roc_auc_score(y_test, y_prob_dtree))"
   ]
  },
  {
   "cell_type": "markdown",
   "metadata": {},
   "source": [
    "### *Random Forest*\n",
    "An ensemble method based on decision trees, Random Forest aggregates the predictions of multiple decision trees to improve prediction accuracy and control overfitting."
   ]
  },
  {
   "cell_type": "code",
   "execution_count": 37,
   "metadata": {},
   "outputs": [
    {
     "name": "stdout",
     "output_type": "stream",
     "text": [
      "Random Forest - Classification Report\n",
      "              precision    recall  f1-score   support\n",
      "\n",
      "           0       0.82      0.86      0.84      1549\n",
      "           1       0.55      0.47      0.51       561\n",
      "\n",
      "    accuracy                           0.75      2110\n",
      "   macro avg       0.68      0.66      0.67      2110\n",
      "weighted avg       0.75      0.75      0.75      2110\n",
      "\n",
      "ROC-AUC Score: 0.7837394949763461\n"
     ]
    }
   ],
   "source": [
    "random_forest = RandomForestClassifier(n_estimators=100, random_state=42)\n",
    "\n",
    "random_forest.fit(X_train, y_train)\n",
    "\n",
    "y_pred_rf = random_forest.predict(X_test)\n",
    "y_prob_rf = random_forest.predict_proba(X_test)[:, 1]\n",
    "\n",
    "print(\"Random Forest - Classification Report\")\n",
    "print(classification_report(y_test, y_pred_rf))\n",
    "print(\"ROC-AUC Score:\", roc_auc_score(y_test, y_prob_rf))"
   ]
  },
  {
   "cell_type": "markdown",
   "metadata": {},
   "source": [
    "### *Support Vector Machines (SVM)*\n",
    "SVM finds the hyperplane that best separates two classes in the feature space. SVMs are effective in high-dimensional spaces and for cases where the number of dimensions exceeds the number of samples."
   ]
  },
  {
   "cell_type": "code",
   "execution_count": 39,
   "metadata": {},
   "outputs": [
    {
     "name": "stdout",
     "output_type": "stream",
     "text": [
      "SVM - Classification Report\n",
      "              precision    recall  f1-score   support\n",
      "\n",
      "           0       0.82      0.91      0.86      1549\n",
      "           1       0.65      0.46      0.54       561\n",
      "\n",
      "    accuracy                           0.79      2110\n",
      "   macro avg       0.74      0.68      0.70      2110\n",
      "weighted avg       0.78      0.79      0.78      2110\n",
      "\n",
      "ROC-AUC Score: 0.782706685585203\n"
     ]
    }
   ],
   "source": [
    "svm_model = make_pipeline(StandardScaler(), SVC(probability=True, random_state=42))\n",
    "\n",
    "svm_model.fit(X_train, y_train)\n",
    "\n",
    "y_pred_svm = svm_model.predict(X_test)\n",
    "y_prob_svm = svm_model.predict_proba(X_test)[:, 1]\n",
    "\n",
    "print(\"SVM - Classification Report\")\n",
    "print(classification_report(y_test, y_pred_svm))\n",
    "print(\"ROC-AUC Score:\", roc_auc_score(y_test, y_prob_svm))\n"
   ]
  },
  {
   "cell_type": "markdown",
   "metadata": {},
   "source": [
    "### *XGBoost (eXtreme Gradient Boosting)*\n",
    "A powerful, efficient, and scalable implementation of gradient boosting that is renowned for its performance and speed in complex classification tasks."
   ]
  },
  {
   "cell_type": "code",
   "execution_count": 41,
   "metadata": {},
   "outputs": [
    {
     "name": "stdout",
     "output_type": "stream",
     "text": [
      "XGBoost - Classification Report\n",
      "              precision    recall  f1-score   support\n",
      "\n",
      "           0       0.83      0.88      0.86      1549\n",
      "           1       0.61      0.50      0.55       561\n",
      "\n",
      "    accuracy                           0.78      2110\n",
      "   macro avg       0.72      0.69      0.70      2110\n",
      "weighted avg       0.77      0.78      0.77      2110\n",
      "\n",
      "ROC-AUC Score: 0.8063485268513181\n"
     ]
    }
   ],
   "source": [
    "from xgboost import XGBClassifier\n",
    "\n",
    "xgb_model = XGBClassifier(eval_metric='logloss', random_state=42)\n",
    "\n",
    "xgb_model.fit(X_train, y_train)\n",
    "\n",
    "y_pred_xgb = xgb_model.predict(X_test)\n",
    "y_prob_xgb = xgb_model.predict_proba(X_test)[:, 1]\n",
    "\n",
    "print(\"XGBoost - Classification Report\")\n",
    "print(classification_report(y_test, y_pred_xgb))\n",
    "print(\"ROC-AUC Score:\", roc_auc_score(y_test, y_prob_xgb))\n"
   ]
  },
  {
   "cell_type": "markdown",
   "metadata": {},
   "source": [
    "## Comparative Analysis of Machine Learning Models for Churn Prediction\n",
    "\n",
    "The classification reports for five machine learning models—**Logistic Regression**, **Decision Tree**, **Random Forest**, **SVM**, and **XGBoost**—reveal varied performances across metrics such as precision, recall, f1-score, and ROC-AUC score:\n",
    "\n",
    "1. **Logistic Regression**\n",
    "   - **Accuracy**: 80%\n",
    "   - **ROC-AUC Score**: 0.831\n",
    "   - This model showed robust performance, particularly effective in identifying non-churn customers with high precision and recall. It had the highest ROC-AUC score, indicating strong discriminative ability between churn and non-churn classes.\n",
    "\n",
    "2. **Decision Tree**\n",
    "   - **Accuracy**: 72%\n",
    "   - **ROC-AUC Score**: 0.643\n",
    "   - Exhibited modest scores and the lowest ROC-AUC score, reflecting issues possibly related to overfitting, which is typical of decision trees.\n",
    "\n",
    "3. **Random Forest**\n",
    "   - **Accuracy**: 75%\n",
    "   - **ROC-AUC Score**: 0.784\n",
    "   - Improved upon the Decision Tree's limitations with better handling of variance, showing enhanced precision for non-churn class and decent recall rates.\n",
    "\n",
    "4. **SVM (Support Vector Machine)**\n",
    "   - **Accuracy**: 79%\n",
    "   - **ROC-AUC Score**: 0.783\n",
    "   - Demonstrated good general performance, similar to Logistic Regression in its ability to effectively identify non-churn customers but with slightly less efficacy for churn predictions.\n",
    "\n",
    "5. **XGBoost (eXtreme Gradient Boosting)**\n",
    "   - **Accuracy**: 78%\n",
    "   - **ROC-AUC Score**: 0.806\n",
    "   - Provided a balanced performance across both classes, making it a strong candidate though not the best in any single metric.\n",
    "\n",
    "While **Logistic Regression** led in overall metric scores, making it the best performer for this particular dataset, **XGBoost** and **SVM** also showed strong potential with balanced performances across classes. **Decision Tree** lagged behind due to its simpler decision-making process and tendency toward overfitting, with **Random Forest** offering a better alternative through ensemble methods. Each model's selection would ultimately depend on the specific use case, particularly when considering the trade-off between detecting true churn versus falsely predicting churn.\n"
   ]
  },
  {
   "cell_type": "code",
   "execution_count": 43,
   "metadata": {},
   "outputs": [
    {
     "data": {
      "image/png": "[encoded data removed]",
      "text/plain": [
       "<Figure size 1000x600 with 2 Axes>"
      ]
     },
     "metadata": {},
     "output_type": "display_data"
    }
   ],
   "source": [
    "models = ['Logistic Regression', 'Decision Tree', 'Random Forest', 'SVM', 'XGBoost']\n",
    "accuracy_scores = [80, 72, 75, 79, 78]  # in percentage\n",
    "roc_auc_scores = [0.831, 0.643, 0.784, 0.783, 0.806]\n",
    "\n",
    "data = pd.DataFrame({\n",
    "    'Model': models,\n",
    "    'Accuracy': accuracy_scores,\n",
    "    'ROC-AUC': roc_auc_scores\n",
    "})\n",
    "\n",
    "sns.set(style=\"white\")\n",
    "plt.figure(figsize=(10, 6))\n",
    "splot = sns.barplot(x='Model', y='Accuracy', data=data, color='lightblue', label='Accuracy')\n",
    "ax2 = plt.twinx()\n",
    "sns.lineplot(data=data, x='Model', y='ROC-AUC', ax=ax2, color='green', marker='o', label='ROC-AUC', linewidth=2)\n",
    "ax2.set_ylim(0, 1)\n",
    "\n",
    "splot.grid(False)\n",
    "ax2.grid(False)\n",
    "\n",
    "splot.legend(loc='upper left')\n",
    "ax2.legend(loc='upper right')\n",
    "\n",
    "plt.title('Comparison of Accuracy and ROC-AUC Scores Across Models')\n",
    "splot.set_ylabel('Accuracy (%)')\n",
    "ax2.set_ylabel('ROC-AUC Score')\n",
    "\n",
    "plt.show()"
   ]
  },
  {
   "cell_type": "markdown",
   "metadata": {},
   "source": [
    "## Hyperperameter Tuning\n",
    "Employing random search to efficiently explore the parameter space and identify the best hyperparameters for enhancing the performance of machine learning models."
   ]
  },
  {
   "cell_type": "markdown",
   "metadata": {},
   "source": [
    "### *Optimizing Logistic Regression Parameters with Random Search CV*"
   ]
  },
  {
   "cell_type": "code",
   "execution_count": 46,
   "metadata": {},
   "outputs": [
    {
     "name": "stdout",
     "output_type": "stream",
     "text": [
      "Fitting 5 folds for each of 50 candidates, totalling 250 fits\n",
      "Best parameters: {'C': 0.014151235919053715, 'penalty': 'l2', 'solver': 'lbfgs'}\n",
      "Best score: 0.80\n"
     ]
    }
   ],
   "source": [
    "param_dist_lr = {\n",
    "    'C': loguniform(1e-4, 1e2),\n",
    "    'solver': ['liblinear', 'lbfgs'],\n",
    "    'penalty': ['l2', 'l1']\n",
    "}\n",
    "\n",
    "random_search_lr = RandomizedSearchCV(LogisticRegression(max_iter=1000), param_distributions=param_dist_lr,\n",
    "                                      n_iter=50, cv=5, verbose=1, random_state=42, n_jobs=-1)\n",
    "\n",
    "random_search_lr.fit(X_train, y_train)\n",
    "\n",
    "print(\"Best parameters:\", random_search_lr.best_params_)\n",
    "print(f\"Best score: {random_search_lr.best_score_:.2f}\")"
   ]
  },
  {
   "cell_type": "markdown",
   "metadata": {},
   "source": [
    "**Before hyperparameter tuning**, the Logistic Regression model achieved an accuracy and ROC-AUC score of 80% and 0.831, respectively. **After employing Random Search CV**, the optimal parameters were identified as **C=0.01415**, **penalty=L2**, and **solver=LBFGS**, with the best cross-validated score also at 80%. This indicates that while the tuning process systematically optimized the model's parameters, it maintained similar performance levels, suggesting the model was already near optimal with the original settings. The consistency in performance metrics before and after tuning confirms the model's robustness but also hints at potential limitations in further improving performance without additional strategies like feature engineering.\n"
   ]
  },
  {
   "cell_type": "markdown",
   "metadata": {},
   "source": [
    "### *Optimizing Decision Trees Parameters with Random Search CV*"
   ]
  },
  {
   "cell_type": "code",
   "execution_count": 49,
   "metadata": {},
   "outputs": [
    {
     "name": "stdout",
     "output_type": "stream",
     "text": [
      "Fitting 5 folds for each of 50 candidates, totalling 250 fits\n",
      "Best parameters: {'max_depth': 5, 'min_samples_leaf': 2, 'min_samples_split': 13}\n",
      "Best score: 0.80\n"
     ]
    }
   ],
   "source": [
    "param_dist_dt = {\n",
    "    'max_depth': sp_randint(3, 20),\n",
    "    'min_samples_split': sp_randint(2, 20),\n",
    "    'min_samples_leaf': sp_randint(1, 20)\n",
    "}\n",
    "\n",
    "random_search_dt = RandomizedSearchCV(DecisionTreeClassifier(random_state=42), param_distributions=param_dist_dt,\n",
    "                                      n_iter=50, cv=5, verbose=1, random_state=42, n_jobs=-1)\n",
    "\n",
    "random_search_dt.fit(X_train, y_train)\n",
    "\n",
    "print(\"Best parameters:\", random_search_dt.best_params_)\n",
    "print(f\"Best score: {random_search_lr.best_score_:.2f}\")"
   ]
  },
  {
   "cell_type": "markdown",
   "metadata": {},
   "source": [
    "**Before hyperparameter tuning**, the Decision Tree model had an accuracy of 72% and a ROC-AUC score of 0.643, with a precision of 0.81 for the non-churn class and 0.47 for the churn class. **Following tuning with Random Search CV**, which tested 250 configurations across 5 folds, the model's optimal parameters were identified as a **max depth of 5**, a **minimum of 2 samples per leaf**, and **13 samples to split a node**. The best cross-validated score improved significantly to 80%. This considerable increase in the cross-validated score post-tuning suggests that the hyperparameter optimization effectively addressed issues of model overfitting and enhanced the model's generalization capabilities on the dataset.\n"
   ]
  },
  {
   "cell_type": "markdown",
   "metadata": {},
   "source": [
    "### *Optimizing Random Forest Parameters with Random Search CV*"
   ]
  },
  {
   "cell_type": "code",
   "execution_count": 52,
   "metadata": {},
   "outputs": [
    {
     "name": "stdout",
     "output_type": "stream",
     "text": [
      "Fitting 5 folds for each of 50 candidates, totalling 250 fits\n",
      "Best parameters: {'max_depth': 7, 'min_samples_leaf': 1, 'min_samples_split': 9, 'n_estimators': 180}\n",
      "Best score: 0.80\n"
     ]
    }
   ],
   "source": [
    "param_dist_rf = {\n",
    "    'n_estimators': sp_randint(100, 500),\n",
    "    'max_depth': sp_randint(3, 20),\n",
    "    'min_samples_split': sp_randint(2, 11),\n",
    "    'min_samples_leaf': sp_randint(1, 11)\n",
    "}\n",
    "\n",
    "random_search_rf = RandomizedSearchCV(RandomForestClassifier(random_state=42), param_distributions=param_dist_rf,\n",
    "                                      n_iter=50, cv=5, verbose=1, random_state=42, n_jobs=-1)\n",
    "\n",
    "random_search_rf.fit(X_train, y_train)\n",
    "\n",
    "print(\"Best parameters:\", random_search_rf.best_params_)\n",
    "print(f\"Best score: {random_search_lr.best_score_:.2f}\")"
   ]
  },
  {
   "cell_type": "markdown",
   "metadata": {},
   "source": [
    "**Prior to hyperparameter tuning**, the Random Forest model exhibited an accuracy of 75% with a ROC-AUC score of 0.784. The model's precision for the non-churn class was notably higher at 0.82 compared to 0.55 for the churn class. **After conducting Random Search CV** over 250 fits, the tuning identified optimal parameters as **max depth of 7**, **1 sample per leaf**, **9 samples to split a node**, and **180 estimators**. The best cross-validated score post-tuning improved to 80%. This improvement indicates that the hyperparameter tuning effectively enhanced the model's ability to generalize, particularly increasing its performance uniformity and predictive stability across both classes in the dataset.\n"
   ]
  },
  {
   "cell_type": "markdown",
   "metadata": {},
   "source": [
    "### *Optimizing SVM Parameters with Random Search CV*"
   ]
  },
  {
   "cell_type": "code",
   "execution_count": 55,
   "metadata": {},
   "outputs": [
    {
     "name": "stdout",
     "output_type": "stream",
     "text": [
      "Fitting 5 folds for each of 50 candidates, totalling 250 fits\n",
      "Best parameters: {'C': 0.06410277188110165, 'gamma': 0.04867329944599207, 'kernel': 'rbf'}\n",
      "Best score: 0.80\n"
     ]
    }
   ],
   "source": [
    "param_dist_svm = {\n",
    "    'C': loguniform(1e-2, 1e2),\n",
    "    'gamma': loguniform(1e-4, 1e-1),\n",
    "    'kernel': ['rbf', 'linear', 'poly']\n",
    "}\n",
    "\n",
    "random_search_svm = RandomizedSearchCV(SVC(probability=True), param_distributions=param_dist_svm,\n",
    "                                       n_iter=50, cv=5, verbose=1, random_state=42, n_jobs=-1)\n",
    "\n",
    "random_search_svm.fit(X_train, y_train)\n",
    "\n",
    "print(\"Best parameters:\", random_search_svm.best_params_)\n",
    "print(f\"Best score: {random_search_lr.best_score_:.2f}\")"
   ]
  },
  {
   "cell_type": "markdown",
   "metadata": {},
   "source": [
    "**Before hyperparameter tuning**, the SVM (Support Vector Machine) model achieved an accuracy of 79% with a ROC-AUC score of 0.783. The model demonstrated a precision of 0.82 for non-churn customers and 0.65 for churn customers, with respective recalls of 0.91 and 0.46. **Following Random Search CV**, which tested 250 configurations across 5 folds, the tuning process identified optimal parameters as **C=0.0641**, **𝛾=0.0487** and the kernel type 'rbf'. The best cross-validated score after tuning rose to 80%. This indicates that the hyperparameter optimization successfully refined the model’s performance, particularly enhancing its ability to generalize across unseen data, leading to a more robust model with improved predictive accuracy.\n"
   ]
  },
  {
   "cell_type": "markdown",
   "metadata": {},
   "source": [
    "### *Optimizing XGBoost Parameters with Random Search CV*"
   ]
  },
  {
   "cell_type": "code",
   "execution_count": 58,
   "metadata": {},
   "outputs": [
    {
     "name": "stdout",
     "output_type": "stream",
     "text": [
      "Fitting 5 folds for each of 50 candidates, totalling 250 fits\n",
      "Best parameters: {'colsample_bytree': 0.5082773464549667, 'learning_rate': 0.07088292571961925, 'max_depth': 5, 'n_estimators': 252, 'subsample': 0.30354310869235307}\n",
      "Best score: 0.80\n"
     ]
    }
   ],
   "source": [
    "param_dist_xgb = {\n",
    "    'n_estimators': sp_randint(100, 500),\n",
    "    'max_depth': sp_randint(3, 10),\n",
    "    'learning_rate': uniform(0.01, 0.6),\n",
    "    'subsample': uniform(0.3, 0.7),\n",
    "    'colsample_bytree': uniform(0.5, 0.9),\n",
    "}\n",
    "\n",
    "random_search_xgb = RandomizedSearchCV(XGBClassifier(use_label_encoder=False, eval_metric='logloss'),\n",
    "                                       param_distributions=param_dist_xgb, n_iter=50, cv=5, verbose=1,\n",
    "                                       random_state=42, n_jobs=-1)\n",
    "\n",
    "random_search_xgb.fit(X_train, y_train)\n",
    "\n",
    "print(\"Best parameters:\", random_search_xgb.best_params_)\n",
    "print(f\"Best score: {random_search_lr.best_score_:.2f}\")"
   ]
  },
  {
   "cell_type": "markdown",
   "metadata": {},
   "source": [
    "**Prior to hyperparameter tuning**, the XGBoost model demonstrated an accuracy of 78% and a ROC-AUC score of 0.806. The model showed a precision of 0.83 for the non-churn class and 0.61 for the churn class, with recall rates of 0.88 and 0.50, respectively. **After employing Random Search CV**, which tested 250 configurations across 5 folds, the optimal parameters were identified as **colsample_bytree of 0.508**, **learning_rate of 0.071**, **max_depth of 5**, **n_estimators of 252**, and **subsample of 0.304**. The best cross-validated score improved to 80%. This improvement underscores that the hyperparameter tuning effectively enhanced the model’s generalization capabilities and overall predictive accuracy, fine-tuning it to better handle the nuances of the dataset.\n"
   ]
  }
 ],
 "metadata": {
  "kernelspec": {
   "display_name": "Python 3 (ipykernel)",
   "language": "python",
   "name": "python3"
  },
  "language_info": {
   "codemirror_mode": {
    "name": "ipython",
    "version": 3
   },
   "file_extension": ".py",
   "mimetype": "text/x-python",
   "name": "python",
   "nbconvert_exporter": "python",
   "pygments_lexer": "ipython3",
   "version": "3.12.7"
  }
 },
 "nbformat": 4,
 "nbformat_minor": 4
}
